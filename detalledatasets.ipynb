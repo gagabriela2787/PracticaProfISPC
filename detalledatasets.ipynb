{
 "cells": [
  {
   "cell_type": "code",
   "execution_count": 5,
   "metadata": {},
   "outputs": [],
   "source": [
    "import pandas as pd\n",
    "import matplotlib.pyplot as plt\n",
    "import seaborn as sns\n",
    "import numpy as np"
   ]
  },
  {
   "cell_type": "code",
   "execution_count": null,
   "metadata": {},
   "outputs": [],
   "source": [
    "#demanda historica 18 MB\n",
    "df6 = pd.read_csv('C:\\\\Users\\\\User\\\\Downloads\\\\grupoISPC\\\\demanda-histrica.csv')\n",
    "df6.head()\n",
    "df6.shape\n",
    "print(df6.columns)\n",
    "df6.describe()\n",
    "df6.info()"
   ]
  },
  {
   "cell_type": "code",
   "execution_count": null,
   "metadata": {},
   "outputs": [],
   "source": [
    "#demanda ultimos años 7MB\n",
    "df7 = pd.read_csv('C:\\\\Users\\\\User\\Downloads\\\\grupoISPC\\\\demanda-ltimos-aos.csv')\n",
    "df7.head()\n",
    "df7.shape\n",
    "print(df7.columns)\n",
    "df7.describe()\n",
    "df7.info()"
   ]
  },
  {
   "cell_type": "code",
   "execution_count": null,
   "metadata": {},
   "outputs": [],
   "source": [
    "#generacion historica 11 MB\n",
    "df8 = pd.read_csv('C:\\\\Users\\\\User\\\\Downloads\\\\grupoISPC\\\\generacin-histrica.csv')\n",
    "df8.head()\n",
    "df8.shape\n",
    "print(df8.columns)\n",
    "df8.describe()\n",
    "df8.info()"
   ]
  },
  {
   "cell_type": "code",
   "execution_count": null,
   "metadata": {},
   "outputs": [],
   "source": [
    "\n",
    "#generacion ultimos años 3.6 MB\n",
    "df9 = pd.read_csv('C:\\\\Users\\\\User\\\\Downloads\\\\grupoISPC\\\\generacin-ltimos-aos.csv')\n",
    "df9.head()\n",
    "df9.shape\n",
    "print(df9.columns)\n",
    "df9.describe()\n",
    "df9.info()"
   ]
  },
  {
   "cell_type": "code",
   "execution_count": null,
   "metadata": {},
   "outputs": [],
   "source": [
    "#potencia instalada 2.44 MB\n",
    "df10 = pd.read_csv('C:\\\\Users\\\\User\\\\Downloads\\\\grupoISPC\\\\importaciones-y-exportaciones.csv')\n",
    "df10.head()\n",
    "df10.shape\n",
    "print(df10.columns)\n",
    "df10.describe()\n",
    "df10.info()"
   ]
  }
 ],
 "metadata": {
  "kernelspec": {
   "display_name": "Python 3",
   "language": "python",
   "name": "python3"
  },
  "language_info": {
   "codemirror_mode": {
    "name": "ipython",
    "version": 3
   },
   "file_extension": ".py",
   "mimetype": "text/x-python",
   "name": "python",
   "nbconvert_exporter": "python",
   "pygments_lexer": "ipython3",
   "version": "3.10.11"
  },
  "orig_nbformat": 4
 },
 "nbformat": 4,
 "nbformat_minor": 2
}
