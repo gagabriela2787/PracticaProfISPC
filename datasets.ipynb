{
  "nbformat": 4,
  "nbformat_minor": 0,
  "metadata": {
    "colab": {
      "provenance": [],
      "authorship_tag": "ABX9TyM3tIwrx9ygbJVbM/Sa1CJE",
      "include_colab_link": true
    },
    "kernelspec": {
      "name": "python3",
      "display_name": "Python 3"
    },
    "language_info": {
      "name": "python"
    }
  },
  "cells": [
    {
      "cell_type": "markdown",
      "metadata": {
        "id": "view-in-github",
        "colab_type": "text"
      },
      "source": [
        "<a href=\"https://colab.research.google.com/github/gagabriela2787/PracticaProfISPC/blob/main/datasets.ipynb\" target=\"_parent\"><img src=\"https://colab.research.google.com/assets/colab-badge.svg\" alt=\"Open In Colab\"/></a>"
      ]
    },
    {
      "cell_type": "markdown",
      "source": [
        "DATASET 1\n",
        "Agentes del MEM -\n",
        "Agentes del Mercado Eléctrico Mayorista"
      ],
      "metadata": {
        "id": "-0WRUw93PhA9"
      }
    },
    {
      "cell_type": "code",
      "execution_count": 1,
      "metadata": {
        "id": "-odGYWUrPJm0"
      },
      "outputs": [],
      "source": [
        "import pandas as pd\n",
        "import matplotlib.pyplot as plt\n",
        "import seaborn as sns\n",
        "import numpy as np"
      ]
    },
    {
      "cell_type": "code",
      "source": [
        "url = 'https://raw.githubusercontent.com/gagabriela2787/PracticaProfISPC/main/dataset/agentes-mem.csv'\n",
        "\n"
      ],
      "metadata": {
        "id": "gcCe-LEsPuDg"
      },
      "execution_count": null,
      "outputs": []
    },
    {
      "cell_type": "code",
      "source": [
        "df1.head()"
      ],
      "metadata": {
        "id": "n0TI7aRmh39u"
      },
      "execution_count": null,
      "outputs": []
    },
    {
      "cell_type": "code",
      "source": [
        "df1.shape"
      ],
      "metadata": {
        "id": "aaNhEHpkQMoA"
      },
      "execution_count": null,
      "outputs": []
    },
    {
      "cell_type": "code",
      "source": [
        "print(df1.columns)\n"
      ],
      "metadata": {
        "id": "2dnWcXvmQSct"
      },
      "execution_count": null,
      "outputs": []
    },
    {
      "cell_type": "code",
      "source": [
        "df1.describe()"
      ],
      "metadata": {
        "id": "ShHbym2DQURy"
      },
      "execution_count": null,
      "outputs": []
    },
    {
      "cell_type": "code",
      "source": [
        "df1.info()"
      ],
      "metadata": {
        "id": "EsN1gInqQUOP"
      },
      "execution_count": null,
      "outputs": []
    },
    {
      "cell_type": "markdown",
      "source": [
        "\n",
        "\n",
        "---\n",
        "\n",
        "\n",
        "\n",
        "---\n",
        "\n"
      ],
      "metadata": {
        "id": "2yegNbteR63d"
      }
    },
    {
      "cell_type": "markdown",
      "source": [
        "DATASET 2\n",
        "Balance\n",
        "Balance de Energía del Mercado Eléctrico Mayorista."
      ],
      "metadata": {
        "id": "-qG73VQrUVMv"
      }
    },
    {
      "cell_type": "code",
      "source": [
        "url2 = 'https://raw.githubusercontent.com/gagabriela2787/PracticaProfISPC/main/dataset/balance.csv'"
      ],
      "metadata": {
        "id": "cz2CVJ2aQUAo"
      },
      "execution_count": 33,
      "outputs": []
    },
    {
      "cell_type": "code",
      "source": [
        "df2.head()\n"
      ],
      "metadata": {
        "colab": {
          "base_uri": "https://localhost:8080/",
          "height": 206
        },
        "id": "wAniVMqyh8gW",
        "outputId": "802d5274-c276-4afd-b804-4833fc892349"
      },
      "execution_count": 60,
      "outputs": [
        {
          "output_type": "execute_result",
          "data": {
            "text/plain": [
              "     id  anio  mes balance         tipo  energia_mwh  \\\n",
              "0  6272  2017    1  OFERTA   Hidráulica  3281399.106   \n",
              "1  6273  2017    1  OFERTA  Importacion   125443.188   \n",
              "2  6274  2017    1  OFERTA      Nuclear   637244.316   \n",
              "3  6275  2017    1  OFERTA    Renovable   245312.545   \n",
              "4  6276  2017    1  OFERTA      Térmica  8643945.596   \n",
              "\n",
              "                fecha_proceso  lote_id_log indice_tiempo  \n",
              "0  2020-05-05 11:07:24.323786           67       2017-01  \n",
              "1  2020-05-05 11:07:24.323786           67       2017-01  \n",
              "2  2020-05-05 11:07:24.323786           67       2017-01  \n",
              "3  2020-05-05 11:07:24.323786           67       2017-01  \n",
              "4  2020-05-05 11:07:24.323786           67       2017-01  "
            ],
            "text/html": [
              "\n",
              "  <div id=\"df-0425d4e9-206d-4b71-a0d5-89af44d22acc\" class=\"colab-df-container\">\n",
              "    <div>\n",
              "<style scoped>\n",
              "    .dataframe tbody tr th:only-of-type {\n",
              "        vertical-align: middle;\n",
              "    }\n",
              "\n",
              "    .dataframe tbody tr th {\n",
              "        vertical-align: top;\n",
              "    }\n",
              "\n",
              "    .dataframe thead th {\n",
              "        text-align: right;\n",
              "    }\n",
              "</style>\n",
              "<table border=\"1\" class=\"dataframe\">\n",
              "  <thead>\n",
              "    <tr style=\"text-align: right;\">\n",
              "      <th></th>\n",
              "      <th>id</th>\n",
              "      <th>anio</th>\n",
              "      <th>mes</th>\n",
              "      <th>balance</th>\n",
              "      <th>tipo</th>\n",
              "      <th>energia_mwh</th>\n",
              "      <th>fecha_proceso</th>\n",
              "      <th>lote_id_log</th>\n",
              "      <th>indice_tiempo</th>\n",
              "    </tr>\n",
              "  </thead>\n",
              "  <tbody>\n",
              "    <tr>\n",
              "      <th>0</th>\n",
              "      <td>6272</td>\n",
              "      <td>2017</td>\n",
              "      <td>1</td>\n",
              "      <td>OFERTA</td>\n",
              "      <td>Hidráulica</td>\n",
              "      <td>3281399.106</td>\n",
              "      <td>2020-05-05 11:07:24.323786</td>\n",
              "      <td>67</td>\n",
              "      <td>2017-01</td>\n",
              "    </tr>\n",
              "    <tr>\n",
              "      <th>1</th>\n",
              "      <td>6273</td>\n",
              "      <td>2017</td>\n",
              "      <td>1</td>\n",
              "      <td>OFERTA</td>\n",
              "      <td>Importacion</td>\n",
              "      <td>125443.188</td>\n",
              "      <td>2020-05-05 11:07:24.323786</td>\n",
              "      <td>67</td>\n",
              "      <td>2017-01</td>\n",
              "    </tr>\n",
              "    <tr>\n",
              "      <th>2</th>\n",
              "      <td>6274</td>\n",
              "      <td>2017</td>\n",
              "      <td>1</td>\n",
              "      <td>OFERTA</td>\n",
              "      <td>Nuclear</td>\n",
              "      <td>637244.316</td>\n",
              "      <td>2020-05-05 11:07:24.323786</td>\n",
              "      <td>67</td>\n",
              "      <td>2017-01</td>\n",
              "    </tr>\n",
              "    <tr>\n",
              "      <th>3</th>\n",
              "      <td>6275</td>\n",
              "      <td>2017</td>\n",
              "      <td>1</td>\n",
              "      <td>OFERTA</td>\n",
              "      <td>Renovable</td>\n",
              "      <td>245312.545</td>\n",
              "      <td>2020-05-05 11:07:24.323786</td>\n",
              "      <td>67</td>\n",
              "      <td>2017-01</td>\n",
              "    </tr>\n",
              "    <tr>\n",
              "      <th>4</th>\n",
              "      <td>6276</td>\n",
              "      <td>2017</td>\n",
              "      <td>1</td>\n",
              "      <td>OFERTA</td>\n",
              "      <td>Térmica</td>\n",
              "      <td>8643945.596</td>\n",
              "      <td>2020-05-05 11:07:24.323786</td>\n",
              "      <td>67</td>\n",
              "      <td>2017-01</td>\n",
              "    </tr>\n",
              "  </tbody>\n",
              "</table>\n",
              "</div>\n",
              "    <div class=\"colab-df-buttons\">\n",
              "\n",
              "  <div class=\"colab-df-container\">\n",
              "    <button class=\"colab-df-convert\" onclick=\"convertToInteractive('df-0425d4e9-206d-4b71-a0d5-89af44d22acc')\"\n",
              "            title=\"Convert this dataframe to an interactive table.\"\n",
              "            style=\"display:none;\">\n",
              "\n",
              "  <svg xmlns=\"http://www.w3.org/2000/svg\" height=\"24px\" viewBox=\"0 -960 960 960\">\n",
              "    <path d=\"M120-120v-720h720v720H120Zm60-500h600v-160H180v160Zm220 220h160v-160H400v160Zm0 220h160v-160H400v160ZM180-400h160v-160H180v160Zm440 0h160v-160H620v160ZM180-180h160v-160H180v160Zm440 0h160v-160H620v160Z\"/>\n",
              "  </svg>\n",
              "    </button>\n",
              "\n",
              "  <style>\n",
              "    .colab-df-container {\n",
              "      display:flex;\n",
              "      gap: 12px;\n",
              "    }\n",
              "\n",
              "    .colab-df-convert {\n",
              "      background-color: #E8F0FE;\n",
              "      border: none;\n",
              "      border-radius: 50%;\n",
              "      cursor: pointer;\n",
              "      display: none;\n",
              "      fill: #1967D2;\n",
              "      height: 32px;\n",
              "      padding: 0 0 0 0;\n",
              "      width: 32px;\n",
              "    }\n",
              "\n",
              "    .colab-df-convert:hover {\n",
              "      background-color: #E2EBFA;\n",
              "      box-shadow: 0px 1px 2px rgba(60, 64, 67, 0.3), 0px 1px 3px 1px rgba(60, 64, 67, 0.15);\n",
              "      fill: #174EA6;\n",
              "    }\n",
              "\n",
              "    .colab-df-buttons div {\n",
              "      margin-bottom: 4px;\n",
              "    }\n",
              "\n",
              "    [theme=dark] .colab-df-convert {\n",
              "      background-color: #3B4455;\n",
              "      fill: #D2E3FC;\n",
              "    }\n",
              "\n",
              "    [theme=dark] .colab-df-convert:hover {\n",
              "      background-color: #434B5C;\n",
              "      box-shadow: 0px 1px 3px 1px rgba(0, 0, 0, 0.15);\n",
              "      filter: drop-shadow(0px 1px 2px rgba(0, 0, 0, 0.3));\n",
              "      fill: #FFFFFF;\n",
              "    }\n",
              "  </style>\n",
              "\n",
              "    <script>\n",
              "      const buttonEl =\n",
              "        document.querySelector('#df-0425d4e9-206d-4b71-a0d5-89af44d22acc button.colab-df-convert');\n",
              "      buttonEl.style.display =\n",
              "        google.colab.kernel.accessAllowed ? 'block' : 'none';\n",
              "\n",
              "      async function convertToInteractive(key) {\n",
              "        const element = document.querySelector('#df-0425d4e9-206d-4b71-a0d5-89af44d22acc');\n",
              "        const dataTable =\n",
              "          await google.colab.kernel.invokeFunction('convertToInteractive',\n",
              "                                                    [key], {});\n",
              "        if (!dataTable) return;\n",
              "\n",
              "        const docLinkHtml = 'Like what you see? Visit the ' +\n",
              "          '<a target=\"_blank\" href=https://colab.research.google.com/notebooks/data_table.ipynb>data table notebook</a>'\n",
              "          + ' to learn more about interactive tables.';\n",
              "        element.innerHTML = '';\n",
              "        dataTable['output_type'] = 'display_data';\n",
              "        await google.colab.output.renderOutput(dataTable, element);\n",
              "        const docLink = document.createElement('div');\n",
              "        docLink.innerHTML = docLinkHtml;\n",
              "        element.appendChild(docLink);\n",
              "      }\n",
              "    </script>\n",
              "  </div>\n",
              "\n",
              "\n",
              "<div id=\"df-fc75d14c-b6eb-42ca-9c1e-081a1cf6582f\">\n",
              "  <button class=\"colab-df-quickchart\" onclick=\"quickchart('df-fc75d14c-b6eb-42ca-9c1e-081a1cf6582f')\"\n",
              "            title=\"Suggest charts.\"\n",
              "            style=\"display:none;\">\n",
              "\n",
              "<svg xmlns=\"http://www.w3.org/2000/svg\" height=\"24px\"viewBox=\"0 0 24 24\"\n",
              "     width=\"24px\">\n",
              "    <g>\n",
              "        <path d=\"M19 3H5c-1.1 0-2 .9-2 2v14c0 1.1.9 2 2 2h14c1.1 0 2-.9 2-2V5c0-1.1-.9-2-2-2zM9 17H7v-7h2v7zm4 0h-2V7h2v10zm4 0h-2v-4h2v4z\"/>\n",
              "    </g>\n",
              "</svg>\n",
              "  </button>\n",
              "\n",
              "<style>\n",
              "  .colab-df-quickchart {\n",
              "      --bg-color: #E8F0FE;\n",
              "      --fill-color: #1967D2;\n",
              "      --hover-bg-color: #E2EBFA;\n",
              "      --hover-fill-color: #174EA6;\n",
              "      --disabled-fill-color: #AAA;\n",
              "      --disabled-bg-color: #DDD;\n",
              "  }\n",
              "\n",
              "  [theme=dark] .colab-df-quickchart {\n",
              "      --bg-color: #3B4455;\n",
              "      --fill-color: #D2E3FC;\n",
              "      --hover-bg-color: #434B5C;\n",
              "      --hover-fill-color: #FFFFFF;\n",
              "      --disabled-bg-color: #3B4455;\n",
              "      --disabled-fill-color: #666;\n",
              "  }\n",
              "\n",
              "  .colab-df-quickchart {\n",
              "    background-color: var(--bg-color);\n",
              "    border: none;\n",
              "    border-radius: 50%;\n",
              "    cursor: pointer;\n",
              "    display: none;\n",
              "    fill: var(--fill-color);\n",
              "    height: 32px;\n",
              "    padding: 0;\n",
              "    width: 32px;\n",
              "  }\n",
              "\n",
              "  .colab-df-quickchart:hover {\n",
              "    background-color: var(--hover-bg-color);\n",
              "    box-shadow: 0 1px 2px rgba(60, 64, 67, 0.3), 0 1px 3px 1px rgba(60, 64, 67, 0.15);\n",
              "    fill: var(--button-hover-fill-color);\n",
              "  }\n",
              "\n",
              "  .colab-df-quickchart-complete:disabled,\n",
              "  .colab-df-quickchart-complete:disabled:hover {\n",
              "    background-color: var(--disabled-bg-color);\n",
              "    fill: var(--disabled-fill-color);\n",
              "    box-shadow: none;\n",
              "  }\n",
              "\n",
              "  .colab-df-spinner {\n",
              "    border: 2px solid var(--fill-color);\n",
              "    border-color: transparent;\n",
              "    border-bottom-color: var(--fill-color);\n",
              "    animation:\n",
              "      spin 1s steps(1) infinite;\n",
              "  }\n",
              "\n",
              "  @keyframes spin {\n",
              "    0% {\n",
              "      border-color: transparent;\n",
              "      border-bottom-color: var(--fill-color);\n",
              "      border-left-color: var(--fill-color);\n",
              "    }\n",
              "    20% {\n",
              "      border-color: transparent;\n",
              "      border-left-color: var(--fill-color);\n",
              "      border-top-color: var(--fill-color);\n",
              "    }\n",
              "    30% {\n",
              "      border-color: transparent;\n",
              "      border-left-color: var(--fill-color);\n",
              "      border-top-color: var(--fill-color);\n",
              "      border-right-color: var(--fill-color);\n",
              "    }\n",
              "    40% {\n",
              "      border-color: transparent;\n",
              "      border-right-color: var(--fill-color);\n",
              "      border-top-color: var(--fill-color);\n",
              "    }\n",
              "    60% {\n",
              "      border-color: transparent;\n",
              "      border-right-color: var(--fill-color);\n",
              "    }\n",
              "    80% {\n",
              "      border-color: transparent;\n",
              "      border-right-color: var(--fill-color);\n",
              "      border-bottom-color: var(--fill-color);\n",
              "    }\n",
              "    90% {\n",
              "      border-color: transparent;\n",
              "      border-bottom-color: var(--fill-color);\n",
              "    }\n",
              "  }\n",
              "</style>\n",
              "\n",
              "  <script>\n",
              "    async function quickchart(key) {\n",
              "      const quickchartButtonEl =\n",
              "        document.querySelector('#' + key + ' button');\n",
              "      quickchartButtonEl.disabled = true;  // To prevent multiple clicks.\n",
              "      quickchartButtonEl.classList.add('colab-df-spinner');\n",
              "      try {\n",
              "        const charts = await google.colab.kernel.invokeFunction(\n",
              "            'suggestCharts', [key], {});\n",
              "      } catch (error) {\n",
              "        console.error('Error during call to suggestCharts:', error);\n",
              "      }\n",
              "      quickchartButtonEl.classList.remove('colab-df-spinner');\n",
              "      quickchartButtonEl.classList.add('colab-df-quickchart-complete');\n",
              "    }\n",
              "    (() => {\n",
              "      let quickchartButtonEl =\n",
              "        document.querySelector('#df-fc75d14c-b6eb-42ca-9c1e-081a1cf6582f button');\n",
              "      quickchartButtonEl.style.display =\n",
              "        google.colab.kernel.accessAllowed ? 'block' : 'none';\n",
              "    })();\n",
              "  </script>\n",
              "</div>\n",
              "    </div>\n",
              "  </div>\n"
            ]
          },
          "metadata": {},
          "execution_count": 60
        }
      ]
    },
    {
      "cell_type": "code",
      "source": [
        "df2 = pd.read_csv(url2)\n"
      ],
      "metadata": {
        "id": "OZAVNrijTedm"
      },
      "execution_count": 34,
      "outputs": []
    },
    {
      "cell_type": "code",
      "source": [
        "df2.shape\n"
      ],
      "metadata": {
        "id": "BiFq_N1EUHOB"
      },
      "execution_count": null,
      "outputs": []
    },
    {
      "cell_type": "code",
      "source": [
        "print(df2.columns)\n"
      ],
      "metadata": {
        "id": "0jgx-JPMUJGA"
      },
      "execution_count": null,
      "outputs": []
    },
    {
      "cell_type": "code",
      "source": [
        "df2.describe()\n"
      ],
      "metadata": {
        "id": "q767_c0XULEb"
      },
      "execution_count": null,
      "outputs": []
    },
    {
      "cell_type": "code",
      "source": [
        "df2.info()"
      ],
      "metadata": {
        "id": "N1xn3AmMUMi7"
      },
      "execution_count": null,
      "outputs": []
    },
    {
      "cell_type": "markdown",
      "source": [
        "\n",
        "\n",
        "---\n",
        "\n",
        "\n",
        "\n",
        "---\n",
        "\n"
      ],
      "metadata": {
        "id": "1f-gMj4qUPfG"
      }
    },
    {
      "cell_type": "markdown",
      "source": [
        "DATASET 3\n",
        "Consumo de Combustibles\n",
        "Consumo de combustibles por tipo de máquina y tipo de tecnología. Unidad: GAS NATURAL [Dam3] - FUEL OIL [Ton] - GAS OIL [M3] - CARBÓN MINERAL [Ton] - BIODIESEL [Ton]"
      ],
      "metadata": {
        "id": "oHwpmtUwU_VO"
      }
    },
    {
      "cell_type": "code",
      "source": [
        "url3 = 'https://raw.githubusercontent.com/gagabriela2787/PracticaProfISPC/main/dataset/combustibles.csv'"
      ],
      "metadata": {
        "id": "tBhLiANOVqv8"
      },
      "execution_count": 39,
      "outputs": []
    },
    {
      "cell_type": "code",
      "source": [
        "df3 = pd.read_csv(url3)\n"
      ],
      "metadata": {
        "id": "b95BTDzWVwDs"
      },
      "execution_count": 40,
      "outputs": []
    },
    {
      "cell_type": "code",
      "source": [
        "df3.head()"
      ],
      "metadata": {
        "id": "2e0tUqRQiCoz"
      },
      "execution_count": null,
      "outputs": []
    },
    {
      "cell_type": "code",
      "source": [
        "df3.shape\n"
      ],
      "metadata": {
        "id": "DoAsxz8VV2s4"
      },
      "execution_count": null,
      "outputs": []
    },
    {
      "cell_type": "code",
      "source": [
        "print(df3.columns)\n"
      ],
      "metadata": {
        "id": "i9ptBm-5V4LV"
      },
      "execution_count": null,
      "outputs": []
    },
    {
      "cell_type": "code",
      "source": [
        "df3.describe()\n"
      ],
      "metadata": {
        "id": "52-p6uJ3V6M9"
      },
      "execution_count": null,
      "outputs": []
    },
    {
      "cell_type": "code",
      "source": [
        "df3.info()"
      ],
      "metadata": {
        "id": "IbpozJFPV7zO"
      },
      "execution_count": null,
      "outputs": []
    },
    {
      "cell_type": "markdown",
      "source": [
        "\n",
        "\n",
        "---\n",
        "\n",
        "\n",
        "\n",
        "---\n",
        "\n"
      ],
      "metadata": {
        "id": "YAq6vUqLV83h"
      }
    },
    {
      "cell_type": "markdown",
      "source": [
        "\n",
        "\n",
        "---\n",
        "\n",
        "\n",
        "\n",
        "---\n",
        "\n"
      ],
      "metadata": {
        "id": "Kdl40UbXaEgr"
      }
    },
    {
      "cell_type": "markdown",
      "source": [
        "Disponibilidad por central\n",
        "Porcentaje de disponibilidad por central"
      ],
      "metadata": {
        "id": "vb9K08nPaHIo"
      }
    },
    {
      "cell_type": "code",
      "source": [
        "url4 = 'https://raw.githubusercontent.com/gagabriela2787/PracticaProfISPC/main/dataset/disponibilidad-por-central.csv'"
      ],
      "metadata": {
        "id": "r2OjPuycWUUx"
      },
      "execution_count": 44,
      "outputs": []
    },
    {
      "cell_type": "code",
      "source": [
        "df4 = pd.read_csv(url4)\n"
      ],
      "metadata": {
        "id": "b9iiDOp-anjE"
      },
      "execution_count": 48,
      "outputs": []
    },
    {
      "cell_type": "code",
      "source": [
        "df4.head()"
      ],
      "metadata": {
        "id": "PzL_47Q5iLj1"
      },
      "execution_count": null,
      "outputs": []
    },
    {
      "cell_type": "code",
      "source": [
        "df4.shape\n"
      ],
      "metadata": {
        "id": "dq6OUkc2ax-1"
      },
      "execution_count": null,
      "outputs": []
    },
    {
      "cell_type": "code",
      "source": [
        "print(df4.columns)\n"
      ],
      "metadata": {
        "id": "lcs2k3gKazgk"
      },
      "execution_count": null,
      "outputs": []
    },
    {
      "cell_type": "code",
      "source": [
        "df4.describe()\n"
      ],
      "metadata": {
        "id": "t0jZirm7a09X"
      },
      "execution_count": null,
      "outputs": []
    },
    {
      "cell_type": "code",
      "source": [
        "df4.info()"
      ],
      "metadata": {
        "id": "vXfDwrTGa2Xe"
      },
      "execution_count": null,
      "outputs": []
    },
    {
      "cell_type": "markdown",
      "source": [
        "\n",
        "\n",
        "---\n",
        "\n",
        "\n",
        "\n",
        "---\n",
        "\n"
      ],
      "metadata": {
        "id": "0czXRiQCbLlj"
      }
    },
    {
      "cell_type": "markdown",
      "source": [
        "\n",
        "DATASET 5\n",
        "\n",
        "Importaciones y Exportaciones\n",
        "\n"
      ],
      "metadata": {
        "id": "ujo1w-5QbLNB"
      }
    },
    {
      "cell_type": "code",
      "source": [
        "url5 = 'https://raw.githubusercontent.com/gagabriela2787/PracticaProfISPC/main/dataset/importaciones-y-exportaciones.csv'"
      ],
      "metadata": {
        "id": "Go1mvMaqcPCt"
      },
      "execution_count": 53,
      "outputs": []
    },
    {
      "cell_type": "code",
      "source": [
        "df5 = pd.read_csv(url5)\n"
      ],
      "metadata": {
        "id": "kot44F0xcbWD"
      },
      "execution_count": 54,
      "outputs": []
    },
    {
      "cell_type": "code",
      "source": [
        "df5.head()"
      ],
      "metadata": {
        "id": "OIVY_VFciODw"
      },
      "execution_count": null,
      "outputs": []
    },
    {
      "cell_type": "code",
      "source": [
        "df5.shape\n"
      ],
      "metadata": {
        "id": "q8XY8334cmvI"
      },
      "execution_count": null,
      "outputs": []
    },
    {
      "cell_type": "code",
      "source": [
        "print(df5.columns)\n"
      ],
      "metadata": {
        "id": "T_k0axARcoGf"
      },
      "execution_count": null,
      "outputs": []
    },
    {
      "cell_type": "code",
      "source": [
        "df5.describe()\n"
      ],
      "metadata": {
        "id": "DzqwO52xcqcw"
      },
      "execution_count": null,
      "outputs": []
    },
    {
      "cell_type": "code",
      "source": [
        "df5.info()"
      ],
      "metadata": {
        "id": "6gStjkD9cr4M"
      },
      "execution_count": null,
      "outputs": []
    },
    {
      "cell_type": "markdown",
      "source": [
        "\n",
        "\n",
        "---\n",
        "\n",
        "\n",
        "\n",
        "---\n",
        "\n"
      ],
      "metadata": {
        "id": "-FZzhEXPcua-"
      }
    }
  ]
}