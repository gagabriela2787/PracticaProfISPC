{
  "nbformat": 4,
  "nbformat_minor": 0,
  "metadata": {
    "colab": {
      "provenance": [],
      "include_colab_link": true
    },
    "kernelspec": {
      "name": "python3",
      "display_name": "Python 3"
    },
    "language_info": {
      "name": "python"
    }
  },
  "cells": [
    {
      "cell_type": "markdown",
      "metadata": {
        "id": "view-in-github",
        "colab_type": "text"
      },
      "source": [
        "<a href=\"https://colab.research.google.com/github/gagabriela2787/PracticaProfISPC/blob/main/energia.ipynb\" target=\"_parent\"><img src=\"https://colab.research.google.com/assets/colab-badge.svg\" alt=\"Open In Colab\"/></a>"
      ]
    },
    {
      "cell_type": "code",
      "execution_count": null,
      "metadata": {
        "id": "slzzFRx60Bnt"
      },
      "outputs": [],
      "source": [
        "import pandas as pd\n",
        "import matplotlib.pyplot as plt\n",
        "import seaborn as sns\n",
        "import numpy as np\n"
      ]
    },
    {
      "cell_type": "code",
      "source": [
        "# Cargar archivos CSV\n",
        "df = pd.read_csv('demanda-ltimos-aos.csv',header=0, sep=\",\")\n",
        "print(df)"
      ],
      "metadata": {
        "id": "8p_YwUIQ0Dio"
      },
      "execution_count": null,
      "outputs": []
    },
    {
      "cell_type": "code",
      "source": [
        "df['provincia'].unique()\n"
      ],
      "metadata": {
        "colab": {
          "base_uri": "https://localhost:8080/"
        },
        "id": "vbG77aHh0h1K",
        "outputId": "8b486493-fb31-42aa-f15f-438364f098fc"
      },
      "execution_count": null,
      "outputs": [
        {
          "output_type": "execute_result",
          "data": {
            "text/plain": [
              "array(['BUENOS AIRES', 'SANTA FE', 'MENDOZA', 'CHUBUT', 'MISIONES',\n",
              "       'LA PAMPA', 'SALTA', 'CORDOBA', 'TUCUMAN', 'CATAMARCA', 'SAN LUIS',\n",
              "       'JUJUY', 'NEUQUEN', 'RIO NEGRO', 'ENTRE RIOS', 'LA RIOJA',\n",
              "       'SGO.DEL ESTERO', 'SAN JUAN', 'CORRIENTES', 'CHACO', 'FORMOSA',\n",
              "       'SANTA CRUZ'], dtype=object)"
            ]
          },
          "metadata": {},
          "execution_count": 4
        }
      ]
    },
    {
      "cell_type": "code",
      "source": [
        "df['agente_nemo'].unique()"
      ],
      "metadata": {
        "id": "_9_Hj73s1Ejg"
      },
      "execution_count": null,
      "outputs": []
    },
    {
      "cell_type": "code",
      "source": [
        "df['categoria_tarifa'].unique()"
      ],
      "metadata": {
        "colab": {
          "base_uri": "https://localhost:8080/"
        },
        "id": "dr67QbSR1TIV",
        "outputId": "239d5a8a-1bd9-471c-a1a1-383ab0f1e051"
      },
      "execution_count": null,
      "outputs": [
        {
          "output_type": "execute_result",
          "data": {
            "text/plain": [
              "array(['Industrial/Comercial Grande', 'Mercado a Término', 'Residencial',\n",
              "       'Comercial'], dtype=object)"
            ]
          },
          "metadata": {},
          "execution_count": 6
        }
      ]
    },
    {
      "cell_type": "code",
      "source": [
        "df['anio'].unique()"
      ],
      "metadata": {
        "id": "1UlZLIFS0-bJ"
      },
      "execution_count": null,
      "outputs": []
    },
    {
      "cell_type": "code",
      "source": [
        "chaco = df.loc[(df['provincia'] =='CHACO')&(df['tarifa'] =='MERCADO TERMINO DISTRIB')]\n",
        "print(chaco)"
      ],
      "metadata": {
        "colab": {
          "base_uri": "https://localhost:8080/"
        },
        "id": "SXBJub3iXHCw",
        "outputId": "2762c7a9-8027-4c6d-de98-e6347cb6bedd"
      },
      "execution_count": null,
      "outputs": [
        {
          "output_type": "stream",
          "name": "stdout",
          "text": [
            "           id  anio  mes agente_nemo agente_descripcion tipo_agente   region  \\\n",
            "951    700182  2017    1    SECHEPHD            SECHEEP          DI  NORESTE   \n",
            "3378   702609  2017    3    SECHEPHD            SECHEEP          DI  NORESTE   \n",
            "5836   705068  2017    5    SECHEPHD            SECHEEP          DI  NORESTE   \n",
            "7082   706314  2017    6    SECHEPHD            SECHEEP          DI  NORESTE   \n",
            "10853  710085  2017    9    SECHEPHD            SECHEEP          DI  NORESTE   \n",
            "14567  713798  2017   12    SECHEPHD            SECHEEP          DI  NORESTE   \n",
            "16949  716181  2018    2    SECHEPHD            SECHEEP          DI  NORESTE   \n",
            "27668  726900  2018   11    SECHEPHD            SECHEEP          DI  NORESTE   \n",
            "39452  738684  2020    1    SECHEPHD            SECHEEP          DI  NORESTE   \n",
            "40233  739465  2020    2    SECHEPHD            SECHEEP          DI  NORESTE   \n",
            "\n",
            "      provincia categoria_area categoria_demanda                   tarifa  \\\n",
            "951       CHACO          Resto      Distribuidor  MERCADO TERMINO DISTRIB   \n",
            "3378      CHACO          Resto      Distribuidor  MERCADO TERMINO DISTRIB   \n",
            "5836      CHACO          Resto      Distribuidor  MERCADO TERMINO DISTRIB   \n",
            "7082      CHACO          Resto      Distribuidor  MERCADO TERMINO DISTRIB   \n",
            "10853     CHACO          Resto      Distribuidor  MERCADO TERMINO DISTRIB   \n",
            "14567     CHACO          Resto      Distribuidor  MERCADO TERMINO DISTRIB   \n",
            "16949     CHACO          Resto      Distribuidor  MERCADO TERMINO DISTRIB   \n",
            "27668     CHACO          Resto      Distribuidor  MERCADO TERMINO DISTRIB   \n",
            "39452     CHACO          Resto      Distribuidor  MERCADO TERMINO DISTRIB   \n",
            "40233     CHACO          Resto      Distribuidor  MERCADO TERMINO DISTRIB   \n",
            "\n",
            "        categoria_tarifa  demanda_MWh               fecha_proceso  \\\n",
            "951    Mercado a Término       -0.001  2020-05-05 11:06:49.000713   \n",
            "3378   Mercado a Término       -0.001  2020-05-05 11:06:49.000713   \n",
            "5836   Mercado a Término       -0.001  2020-05-05 11:06:49.000713   \n",
            "7082   Mercado a Término       -0.002  2020-05-05 11:06:49.000713   \n",
            "10853  Mercado a Término       -0.001  2020-05-05 11:06:49.000713   \n",
            "14567  Mercado a Término       -0.001  2020-05-05 11:06:49.000713   \n",
            "16949  Mercado a Término       -0.001  2020-05-05 11:06:49.000713   \n",
            "27668  Mercado a Término       -0.001  2020-05-05 11:06:49.000713   \n",
            "39452  Mercado a Término       -0.001  2020-05-05 11:06:49.000713   \n",
            "40233  Mercado a Término       -0.001  2020-05-05 11:06:49.000713   \n",
            "\n",
            "       lote_id_log indice_tiempo  \n",
            "951             67       2017-01  \n",
            "3378            67       2017-03  \n",
            "5836            67       2017-05  \n",
            "7082            67       2017-06  \n",
            "10853           67       2017-09  \n",
            "14567           67       2017-12  \n",
            "16949           67       2018-02  \n",
            "27668           67       2018-11  \n",
            "39452           67       2020-01  \n",
            "40233           67       2020-02  \n"
          ]
        }
      ]
    },
    {
      "cell_type": "code",
      "source": [
        "bsas = df.loc[(df['provincia'] =='BUENOS AIRES')&(df['tarifa'] =='MERCADO TERMINO DISTRIB')]\n",
        "print(bsas)"
      ],
      "metadata": {
        "colab": {
          "base_uri": "https://localhost:8080/"
        },
        "id": "e51Vyx7Kjyu3",
        "outputId": "cb5f39af-1ed0-4f0e-9eda-4ee9fd98a334"
      },
      "execution_count": null,
      "outputs": [
        {
          "output_type": "stream",
          "name": "stdout",
          "text": [
            "           id  anio  mes agente_nemo              agente_descripcion  \\\n",
            "103    699334  2017    1    C3AR3A3W      COOP. CELTA - TRES ARROYOS   \n",
            "151    699382  2017    1    CBARKE3W           COOPERATIVA DE BARKER   \n",
            "220    699452  2017    1    CEVIGE3W              COOP. VILLA GESELL   \n",
            "260    699492  2017    1    CLEZAM3W           COOPERATIVA DE LEZAMA   \n",
            "279    699511  2017    1    CLUJAN1W             COOP. LUJAN BS. AS.   \n",
            "...       ...   ...  ...         ...                             ...   \n",
            "39811  739043  2020    2    CMONTE1W               COOPERATIVA MONTE   \n",
            "39873  739105  2020    2    CRAMAL1W                   COOP. RAMALLO   \n",
            "39886  739118  2020    2    CRIVAD1W  COOPERATIVA ELEC. DE RIVADAVIA   \n",
            "39890  739122  2020    2    CROJAS1W        COOP.DE LUZ Y F.DE ROJAS   \n",
            "39916  739148  2020    2    CSPUAN2W       COOPERATIVA DE PUAN LTDA.   \n",
            "\n",
            "      tipo_agente        region     provincia categoria_area  \\\n",
            "103            DI  BUENOS AIRES  BUENOS AIRES          Resto   \n",
            "151            DI  BUENOS AIRES  BUENOS AIRES          Resto   \n",
            "220            DI  BUENOS AIRES  BUENOS AIRES          Resto   \n",
            "260            DI  BUENOS AIRES  BUENOS AIRES          Resto   \n",
            "279            DI  BUENOS AIRES  BUENOS AIRES          Resto   \n",
            "...           ...           ...           ...            ...   \n",
            "39811          DI  BUENOS AIRES  BUENOS AIRES          Resto   \n",
            "39873          DI  BUENOS AIRES  BUENOS AIRES          Resto   \n",
            "39886          DI  BUENOS AIRES  BUENOS AIRES          Resto   \n",
            "39890          DI  BUENOS AIRES  BUENOS AIRES          Resto   \n",
            "39916          DI  BUENOS AIRES  BUENOS AIRES          Resto   \n",
            "\n",
            "      categoria_demanda                   tarifa   categoria_tarifa  \\\n",
            "103        Distribuidor  MERCADO TERMINO DISTRIB  Mercado a Término   \n",
            "151        Distribuidor  MERCADO TERMINO DISTRIB  Mercado a Término   \n",
            "220        Distribuidor  MERCADO TERMINO DISTRIB  Mercado a Término   \n",
            "260        Distribuidor  MERCADO TERMINO DISTRIB  Mercado a Término   \n",
            "279        Distribuidor  MERCADO TERMINO DISTRIB  Mercado a Término   \n",
            "...                 ...                      ...                ...   \n",
            "39811      Distribuidor  MERCADO TERMINO DISTRIB  Mercado a Término   \n",
            "39873      Distribuidor  MERCADO TERMINO DISTRIB  Mercado a Término   \n",
            "39886      Distribuidor  MERCADO TERMINO DISTRIB  Mercado a Término   \n",
            "39890      Distribuidor  MERCADO TERMINO DISTRIB  Mercado a Término   \n",
            "39916      Distribuidor  MERCADO TERMINO DISTRIB  Mercado a Término   \n",
            "\n",
            "       demanda_MWh               fecha_proceso  lote_id_log indice_tiempo  \n",
            "103         -0.001  2020-05-05 11:06:49.000713           67       2017-01  \n",
            "151         -0.001  2020-05-05 11:06:49.000713           67       2017-01  \n",
            "220         -0.001  2020-05-05 11:06:49.000713           67       2017-01  \n",
            "260         -0.001  2020-05-05 11:06:49.000713           67       2017-01  \n",
            "279         -0.001  2020-05-05 11:06:49.000713           67       2017-01  \n",
            "...            ...                         ...          ...           ...  \n",
            "39811       -0.001  2020-05-05 11:06:49.000713           67       2020-02  \n",
            "39873       -0.001  2020-05-05 11:06:49.000713           67       2020-02  \n",
            "39886       -0.001  2020-05-05 11:06:49.000713           67       2020-02  \n",
            "39890       -0.001  2020-05-05 11:06:49.000713           67       2020-02  \n",
            "39916       -0.001  2020-05-05 11:06:49.000713           67       2020-02  \n",
            "\n",
            "[410 rows x 16 columns]\n"
          ]
        }
      ]
    },
    {
      "cell_type": "code",
      "source": [
        "df['agente_nemo'].unique()"
      ],
      "metadata": {
        "id": "geM2vrgO10v6"
      },
      "execution_count": null,
      "outputs": []
    },
    {
      "cell_type": "code",
      "source": [
        "print(df.columns)"
      ],
      "metadata": {
        "colab": {
          "base_uri": "https://localhost:8080/"
        },
        "id": "_J2_y_672HJC",
        "outputId": "c001c02d-04cd-4de6-c132-d4d9a99b179b"
      },
      "execution_count": null,
      "outputs": [
        {
          "output_type": "stream",
          "name": "stdout",
          "text": [
            "Index(['id', 'anio', 'mes', 'agente_nemo', 'agente_descripcion', 'tipo_agente',\n",
            "       'region', 'provincia', 'categoria_area', 'categoria_demanda', 'tarifa',\n",
            "       'categoria_tarifa', 'demanda_MWh', 'fecha_proceso', 'lote_id_log',\n",
            "       'indice_tiempo'],\n",
            "      dtype='object')\n"
          ]
        }
      ]
    },
    {
      "cell_type": "code",
      "source": [
        "# Cargar archivos CSV\n",
        "df_ag = pd.read_csv('agentes-mem.csv',header=0, sep=\",\")\n",
        "print(df_ag)"
      ],
      "metadata": {
        "colab": {
          "base_uri": "https://localhost:8080/"
        },
        "id": "gUrMUZHC2P8m",
        "outputId": "0d5e2701-4d7d-40c1-a1ac-050ad9dffc4d"
      },
      "execution_count": null,
      "outputs": [
        {
          "output_type": "stream",
          "name": "stdout",
          "text": [
            "           id      nemo                     descipcion        agrupacion  \\\n",
            "0      149768  14DEMP3N    14 DE JULIO S.A. - PESQUERA  GRANDES USUARIOS   \n",
            "1      149769  72GAVEIN  72 GAS S.A.- BOUL.72 LA PLATA  GRANDES USUARIOS   \n",
            "2      149770  AAARFOCN        ABRASIVOS ARGENTINOS SA  GRANDES USUARIOS   \n",
            "3      149771  AARGTAOY    AEROP ARG 2000 - Aeroparque  GRANDES USUARIOS   \n",
            "4      149772  ABASTUTN                ABASTO TUCUMANO  GRANDES USUARIOS   \n",
            "...       ...       ...                            ...               ...   \n",
            "10075  159843  GWUT333I   COOP. AGROPECUARIA DE TANDIL  GRANDES USUARIOS   \n",
            "10076  159844  GD0409NI                      HPT S.R.L  GRANDES USUARIOS   \n",
            "10077  159845  GD0082NI                     S.A.M.S.A.  GRANDES USUARIOS   \n",
            "10078  159846  PLASPEDN                    PLASTI S.A.  GRANDES USUARIOS   \n",
            "10079  159847  SECHEPTT         SECHEEP TRANSP. INDEP.               NaN   \n",
            "\n",
            "                        tipo_agente               fecha_proceso  lote_id_log  \n",
            "0         Gran Usuario Menor (GUME)  2020-05-05 11:08:14.531913           67  \n",
            "1         Gran Usuario Menor (GUME)  2020-05-05 11:08:14.531913           67  \n",
            "2         Gran Usuario Menor (GUME)  2020-05-05 11:08:14.531913           67  \n",
            "3         Gran Usuario Mayor (GUMA)  2020-05-05 11:08:14.531913           67  \n",
            "4         Gran Usuario Menor (GUME)  2020-05-05 11:08:14.531913           67  \n",
            "...                             ...                         ...          ...  \n",
            "10075  GRAN DEMANDA EN DISTRIBUIDOR  2020-05-05 11:08:14.531913           67  \n",
            "10076  GRAN DEMANDA EN DISTRIBUIDOR  2020-05-05 11:08:14.531913           67  \n",
            "10077  GRAN DEMANDA EN DISTRIBUIDOR  2020-05-05 11:08:14.531913           67  \n",
            "10078     Gran Usuario Menor (GUME)  2020-05-05 11:08:14.531913           67  \n",
            "10079   Transportista Independiente  2020-05-05 11:08:14.531913           67  \n",
            "\n",
            "[10080 rows x 7 columns]\n"
          ]
        }
      ]
    },
    {
      "cell_type": "code",
      "source": [
        "print(df_ag.columns)"
      ],
      "metadata": {
        "colab": {
          "base_uri": "https://localhost:8080/"
        },
        "id": "6CLEpo6B2rPF",
        "outputId": "463e86f6-e809-4bec-b1e1-168419346adf"
      },
      "execution_count": null,
      "outputs": [
        {
          "output_type": "stream",
          "name": "stdout",
          "text": [
            "Index(['id', 'nemo', 'descipcion', 'agrupacion', 'tipo_agente',\n",
            "       'fecha_proceso', 'lote_id_log'],\n",
            "      dtype='object')\n"
          ]
        }
      ]
    },
    {
      "cell_type": "code",
      "source": [
        "df_ag['tipo_agente'].unique()"
      ],
      "metadata": {
        "colab": {
          "base_uri": "https://localhost:8080/"
        },
        "id": "GXE4ru1jfA-P",
        "outputId": "d0cc0b49-fcd7-48ac-a12d-33c55733402c"
      },
      "execution_count": null,
      "outputs": [
        {
          "output_type": "execute_result",
          "data": {
            "text/plain": [
              "array(['Gran Usuario Menor (GUME)', 'Gran Usuario Mayor (GUMA)',\n",
              "       'Generador', 'Gran Usuario Particular (GUPA)',\n",
              "       'Comercializador de Demanda', 'Autogenerador', 'Distribuidor',\n",
              "       'Transportista PAFT-R159/94 AII', 'Comercializador de Generacion',\n",
              "       'Cooperativa', 'PAFTT No Agente - Res SE123/95',\n",
              "       'Transportista Independiente', 'DISTRIBUIDOR MENOR (DIME)',\n",
              "       'Cogenerador', 'Transportista Distrib. Troncal',\n",
              "       'GRAN DEMANDA EN DISTRIBUIDOR', 'Transportista en alta tension'],\n",
              "      dtype=object)"
            ]
          },
          "metadata": {},
          "execution_count": 52
        }
      ]
    },
    {
      "cell_type": "code",
      "source": [
        "# Cargar archivos CSV\n",
        "dfbal = pd.read_csv('balance.csv',header=0, sep=\",\")\n",
        "print(dfbal)"
      ],
      "metadata": {
        "colab": {
          "base_uri": "https://localhost:8080/"
        },
        "id": "IJLrl__U26V4",
        "outputId": "71fc0251-325d-4cee-a314-2cc140a39a90"
      },
      "execution_count": null,
      "outputs": [
        {
          "output_type": "stream",
          "name": "stdout",
          "text": [
            "       id  anio  mes  balance          tipo  energia_mwh  \\\n",
            "0    6272  2017    1   OFERTA    Hidráulica  3281399.106   \n",
            "1    6273  2017    1   OFERTA   Importacion   125443.188   \n",
            "2    6274  2017    1   OFERTA       Nuclear   637244.316   \n",
            "3    6275  2017    1   OFERTA     Renovable   245312.545   \n",
            "4    6276  2017    1   OFERTA       Térmica  8643945.596   \n",
            "..    ...   ...  ...      ...           ...          ...   \n",
            "375  6647  2020    2  DEMANDA  Gran Usuario  1874998.636   \n",
            "376  6648  2020    2  DEMANDA  Distribuidor  8966418.170   \n",
            "377  6649  2020    2  DEMANDA        Bombeo     7088.794   \n",
            "378  6650  2020    2  DEMANDA   Exportacion    29984.058   \n",
            "379  6651  2020    2  DEMANDA      Perdidas   355452.287   \n",
            "\n",
            "                  fecha_proceso  lote_id_log indice_tiempo  \n",
            "0    2020-05-05 11:07:24.323786           67       2017-01  \n",
            "1    2020-05-05 11:07:24.323786           67       2017-01  \n",
            "2    2020-05-05 11:07:24.323786           67       2017-01  \n",
            "3    2020-05-05 11:07:24.323786           67       2017-01  \n",
            "4    2020-05-05 11:07:24.323786           67       2017-01  \n",
            "..                          ...          ...           ...  \n",
            "375  2020-05-05 11:07:24.323786           67       2020-02  \n",
            "376  2020-05-05 11:07:24.323786           67       2020-02  \n",
            "377  2020-05-05 11:07:24.323786           67       2020-02  \n",
            "378  2020-05-05 11:07:24.323786           67       2020-02  \n",
            "379  2020-05-05 11:07:24.323786           67       2020-02  \n",
            "\n",
            "[380 rows x 9 columns]\n"
          ]
        }
      ]
    },
    {
      "cell_type": "code",
      "source": [
        "print(dfbal.columns)"
      ],
      "metadata": {
        "colab": {
          "base_uri": "https://localhost:8080/"
        },
        "id": "uBPIz5yJ24AH",
        "outputId": "bd52c5c2-f714-4e29-f702-2d94be8ecf08"
      },
      "execution_count": null,
      "outputs": [
        {
          "output_type": "stream",
          "name": "stdout",
          "text": [
            "Index(['id', 'anio', 'mes', 'balance', 'tipo', 'energia_mwh', 'fecha_proceso',\n",
            "       'lote_id_log', 'indice_tiempo'],\n",
            "      dtype='object')\n"
          ]
        }
      ]
    },
    {
      "cell_type": "code",
      "source": [
        "dfbal['indice_tiempo'].unique()"
      ],
      "metadata": {
        "colab": {
          "base_uri": "https://localhost:8080/"
        },
        "id": "Vcr8Zc9a4Cb-",
        "outputId": "53ddafec-00df-452b-8be0-d4ebd051c26f"
      },
      "execution_count": null,
      "outputs": [
        {
          "output_type": "execute_result",
          "data": {
            "text/plain": [
              "array(['2017-01', '2017-02', '2017-03', '2017-04', '2017-05', '2017-06',\n",
              "       '2017-07', '2017-08', '2017-09', '2017-10', '2017-11', '2017-12',\n",
              "       '2018-01', '2018-02', '2018-03', '2018-04', '2018-05', '2018-06',\n",
              "       '2018-07', '2018-08', '2018-09', '2018-10', '2018-11', '2018-12',\n",
              "       '2019-01', '2019-02', '2019-03', '2019-04', '2019-05', '2019-06',\n",
              "       '2019-07', '2019-08', '2019-09', '2019-10', '2019-11', '2019-12',\n",
              "       '2020-01', '2020-02'], dtype=object)"
            ]
          },
          "metadata": {},
          "execution_count": 21
        }
      ]
    },
    {
      "cell_type": "code",
      "source": [
        "# Cargar archivos CSV\n",
        "dfhis = pd.read_csv('demanda-histrica.csv',header=0, sep=\",\")\n",
        "print(dfhis)"
      ],
      "metadata": {
        "colab": {
          "base_uri": "https://localhost:8080/"
        },
        "id": "2sbvpGCq4Wq-",
        "outputId": "97f0cc8b-73b7-4a67-beff-a699b1e1064d"
      },
      "execution_count": null,
      "outputs": [
        {
          "output_type": "stream",
          "name": "stdout",
          "text": [
            "        anio  mes agente_nemo              agente_descripcion tipo_agente  \\\n",
            "0       2012    1    AARGTAOY     AEROP ARG 2000 - Aeroparque          GU   \n",
            "1       2012    1    ACARQQ3Y        ASOC.COOP.ARG. - Quequén          GU   \n",
            "2       2012    1    ACARSLSY    ASOC.COOP.ARG. - San Lorenzo          GU   \n",
            "3       2012    1    ACINROSY      ACINDAR ROSARIO EX-NAVARRO          GU   \n",
            "4       2012    1    ACINTBOY            ACINDAR PTA. TABLADA          GU   \n",
            "...      ...  ...         ...                             ...         ...   \n",
            "122258  2020    2    YPF-TBCY   YPF S.A. - Edif. Torre Blanca          GU   \n",
            "122259  2020    2    YPFTORUZ                 YPF EL TORDILLO          GU   \n",
            "122260  2020    2    YPFTREUA   YPF EL TREBOL CT MANANT. BEHR          AG   \n",
            "122261  2020    2    YPF-VZMZ  YPF S.A-YAC.VIZCACHER.EX ASTRA          GU   \n",
            "122262  2020    2    ZUCARACY    ZUCAMOR SA PLANTA LA GAVIOTA          GU   \n",
            "\n",
            "              region     provincia    categoria_area categoria_demanda  \\\n",
            "0        GRAN BS.AS.  BUENOS AIRES  Gran Usuario MEM      Gran Usuario   \n",
            "1       BUENOS AIRES  BUENOS AIRES  Gran Usuario MEM      Gran Usuario   \n",
            "2            LITORAL      SANTA FE  Gran Usuario MEM      Gran Usuario   \n",
            "3            LITORAL      SANTA FE  Gran Usuario MEM      Gran Usuario   \n",
            "4        GRAN BS.AS.  BUENOS AIRES  Gran Usuario MEM      Gran Usuario   \n",
            "...              ...           ...               ...               ...   \n",
            "122258   GRAN BS.AS.  BUENOS AIRES  Gran Usuario MEM      Gran Usuario   \n",
            "122259    PATAGONICA        CHUBUT  Gran Usuario MEM      Gran Usuario   \n",
            "122260    PATAGONICA        CHUBUT  Gran Usuario MEM      Gran Usuario   \n",
            "122261          CUYO       MENDOZA  Gran Usuario MEM      Gran Usuario   \n",
            "122262   GRAN BS.AS.  BUENOS AIRES  Gran Usuario MEM      Gran Usuario   \n",
            "\n",
            "                       tarifa             categoria_tarifa  demanda_MWh  \\\n",
            "0       GUMAS/AUTOGENERADORES  Industrial/Comercial Grande     2222.628   \n",
            "1       GUMAS/AUTOGENERADORES  Industrial/Comercial Grande      536.858   \n",
            "2       GUMAS/AUTOGENERADORES  Industrial/Comercial Grande      336.297   \n",
            "3       GUMAS/AUTOGENERADORES  Industrial/Comercial Grande      601.066   \n",
            "4       GUMAS/AUTOGENERADORES  Industrial/Comercial Grande     3076.618   \n",
            "...                       ...                          ...          ...   \n",
            "122258  GUMAS/AUTOGENERADORES  Industrial/Comercial Grande      577.655   \n",
            "122259  GUMAS/AUTOGENERADORES  Industrial/Comercial Grande     3333.504   \n",
            "122260  GUMAS/AUTOGENERADORES  Industrial/Comercial Grande     4535.382   \n",
            "122261  GUMAS/AUTOGENERADORES  Industrial/Comercial Grande    25284.096   \n",
            "122262  GUMAS/AUTOGENERADORES  Industrial/Comercial Grande     3235.086   \n",
            "\n",
            "       indice_tiempo  \n",
            "0            2012-01  \n",
            "1            2012-01  \n",
            "2            2012-01  \n",
            "3            2012-01  \n",
            "4            2012-01  \n",
            "...              ...  \n",
            "122258       2020-02  \n",
            "122259       2020-02  \n",
            "122260       2020-02  \n",
            "122261       2020-02  \n",
            "122262       2020-02  \n",
            "\n",
            "[122263 rows x 13 columns]\n"
          ]
        }
      ]
    },
    {
      "cell_type": "code",
      "source": [
        "print(dfhis.columns)"
      ],
      "metadata": {
        "colab": {
          "base_uri": "https://localhost:8080/"
        },
        "id": "n5ES-CZJEUn9",
        "outputId": "3860a1b2-2f1b-496e-a9b9-9bf140465221"
      },
      "execution_count": null,
      "outputs": [
        {
          "output_type": "stream",
          "name": "stdout",
          "text": [
            "Index(['anio', 'mes', 'agente_nemo', 'agente_descripcion', 'tipo_agente',\n",
            "       'region', 'provincia', 'categoria_area', 'categoria_demanda', 'tarifa',\n",
            "       'categoria_tarifa', 'demanda_MWh', 'indice_tiempo'],\n",
            "      dtype='object')\n"
          ]
        }
      ]
    },
    {
      "cell_type": "code",
      "source": [
        "dfhis['anio'].unique()"
      ],
      "metadata": {
        "colab": {
          "base_uri": "https://localhost:8080/"
        },
        "id": "Y42TuiV1EjvD",
        "outputId": "7e599e6f-b8e9-43ac-b3cd-dc97f798de74"
      },
      "execution_count": null,
      "outputs": [
        {
          "output_type": "execute_result",
          "data": {
            "text/plain": [
              "array([2012, 2013, 2014])"
            ]
          },
          "metadata": {},
          "execution_count": 25
        }
      ]
    },
    {
      "cell_type": "code",
      "source": [
        "dfhis['tipo_agente'].unique()"
      ],
      "metadata": {
        "colab": {
          "base_uri": "https://localhost:8080/"
        },
        "id": "0M2mGmDrEucT",
        "outputId": "c19255b1-7cee-429b-c848-0491c40fc285"
      },
      "execution_count": null,
      "outputs": [
        {
          "output_type": "execute_result",
          "data": {
            "text/plain": [
              "array(['GU', 'AG', 'DI'], dtype=object)"
            ]
          },
          "metadata": {},
          "execution_count": 30
        }
      ]
    },
    {
      "cell_type": "code",
      "source": [
        "dfhis['categoria_tarifa'].unique()"
      ],
      "metadata": {
        "id": "BB2MQ60mtEmL",
        "outputId": "40754bfa-96d1-4522-8a44-438a2ed31957",
        "colab": {
          "base_uri": "https://localhost:8080/"
        }
      },
      "execution_count": null,
      "outputs": [
        {
          "output_type": "execute_result",
          "data": {
            "text/plain": [
              "array(['Industrial/Comercial Grande', 'Residencial', 'Comercial',\n",
              "       'Mercado a Término'], dtype=object)"
            ]
          },
          "metadata": {},
          "execution_count": 26
        }
      ]
    },
    {
      "cell_type": "code",
      "source": [
        "dfhis['tarifa'].unique()"
      ],
      "metadata": {
        "colab": {
          "base_uri": "https://localhost:8080/"
        },
        "id": "7mIySv_Sq3WK",
        "outputId": "5d5a957f-3903-41cf-abc7-563d87a6edd0"
      },
      "execution_count": null,
      "outputs": [
        {
          "output_type": "execute_result",
          "data": {
            "text/plain": [
              "array(['GUMAS/AUTOGENERADORES', 'Alumbrado Publico',\n",
              "       'GRANDES USUARIOS C DEM MAYOR O IGUAL 300KW',\n",
              "       'MENOR 10KW NO RES. MAYOR O IGUAL 4000 KWH/BIM',\n",
              "       'MENOR 10KW NO RES. MENOR 4000 KWH BIM',\n",
              "       'RES. MAYOR 1000 Y MENOR O IGUAL 1400 KWH BIM',\n",
              "       'RES. MAYOR 1400 Y MENOR O IGUAL 2800 KWH BIM',\n",
              "       'RES. MAYOR 2800 KWH BIM', 'RES. MENOR O IGUAL 1000 KWH BIM',\n",
              "       'SANCIONADO DEM.MAYOR O IGUAL 10 Y MENOR300 KW', 'GUMES/GUPAS',\n",
              "       'MERCADO TERMINO DISTRIB', 'RESIDENCIAL',\n",
              "       'RESIDENCIAL PLAN ESTIMULO AHORRO >=10 Y <=20%',\n",
              "       'RESIDENCIAL PLAN ESTIMULO AHORRO >20%',\n",
              "       'TARIFA SOCIAL CONSUMO <=150KWH MES',\n",
              "       'TARIFA SOCIAL CONSUMO >150KWH MES C/AHORRO',\n",
              "       'TARIFA SOCIAL CONSUMO >150KWH MES S/AHORRO',\n",
              "       'TARIFA SOCIAL CONSUMO BASE', 'TARIFA SOCIAL EXCEDENTE CON AHORRO',\n",
              "       'TARIFA SOCIAL EXCEDENTE SIN AHORRO',\n",
              "       'TARIFA USUARIO NO RESIDENCIAL <300KWH',\n",
              "       'TARIFA USUARIO NO RESIDENCIAL >=300KWH',\n",
              "       'TARIFA BASE ELECTRODEPENDIENTES',\n",
              "       'TARIFA ELECTROD. EXCEDENTE S/AHORRO <= 450MWH',\n",
              "       'TARIFA ELECTROD. EXCEDENTE S/AHORRO > 450MWH',\n",
              "       'TARIFA ELECTROD. EXEDENTE SIN AHORRO < 450MWH',\n",
              "       'TARIFA ELECTROD. EXEDENTE SIN AHORRO > 450MWH',\n",
              "       'TARIFA SOCIAL EXCEDENTE < 450 KWH',\n",
              "       'TARIFA SOCIAL EXCEDENTE > 450 MWH',\n",
              "       'TARIFA SOCIAL SIN AHORRO EXCEDENTE <= 450 KWH',\n",
              "       'TARIFA SOCIAL SIN AHORRO EXCEDENTE > 450 MWH',\n",
              "       'TARIFA ELECTRODEPENDIENTE EXCEDENTE CON AHORR',\n",
              "       'TARIFA SOCIAL EXCEDENTE HASTA 150KWH',\n",
              "       'TARIFA SOCIAL EXCEDENTE HASTA 150KWH C/P.ESTI',\n",
              "       'TARIFA SOCIAL EXCEDENTE SUPERIOR A 150KWH',\n",
              "       'TARIFA SOCIAL EXC. SUPERIOR 150KWH C/P.ESTIM'], dtype=object)"
            ]
          },
          "metadata": {},
          "execution_count": 23
        }
      ]
    },
    {
      "cell_type": "code",
      "source": [
        "hisag = dfhis.loc[(dfhis['tipo_agente'] =='GU')&(dfhis['provincia'] =='CHACO')&('categoria_tarifa'=='Residencial')]\n",
        "print(hisag)"
      ],
      "metadata": {
        "colab": {
          "base_uri": "https://localhost:8080/"
        },
        "id": "TEDl1pJ7mUoR",
        "outputId": "352f6a94-d997-49b1-ddcf-fe2a65706322"
      },
      "execution_count": null,
      "outputs": [
        {
          "output_type": "stream",
          "name": "stdout",
          "text": [
            "Empty DataFrame\n",
            "Columns: [anio, mes, agente_nemo, agente_descripcion, tipo_agente, region, provincia, categoria_area, categoria_demanda, tarifa, categoria_tarifa, demanda_MWh, indice_tiempo]\n",
            "Index: []\n"
          ]
        }
      ]
    },
    {
      "cell_type": "code",
      "source": [
        "# *********************************************************************************\n",
        "bsas = df.loc[(df['tipo_agente'] =='GU')&(df['tarifa'] =='MERCADO TERMINO DISTRIB')]\n",
        "print(bsas)"
      ],
      "metadata": {
        "id": "xrYyN_q4mtmM"
      },
      "execution_count": null,
      "outputs": []
    },
    {
      "cell_type": "code",
      "source": [
        "# Cargar archivos CSV\n",
        "dfdis = pd.read_csv('disponibilidad-por-central.csv',header=0, sep=\",\")\n",
        "print(dfdis)"
      ],
      "metadata": {
        "colab": {
          "base_uri": "https://localhost:8080/"
        },
        "id": "AuLtHp2eGswn",
        "outputId": "025a5251-0b36-4629-d4d0-6472803d870f"
      },
      "execution_count": null,
      "outputs": [
        {
          "output_type": "stream",
          "name": "stdout",
          "text": [
            "          id  mes central    agente                    descripcion  \\\n",
            "0     121855    1    ABRO  CTBROWNG           C.T. ALMIRANTE BROWN   \n",
            "1     121856    1    ACAJ  CAPEXSAG            C.T. AGUA DEL CAJON   \n",
            "2     121857    1    AESP  CTAESPAG                C.T. AES PARANA   \n",
            "3     121858    1    ALEM  CTALEMAG              CT ALEM - AGGREKO   \n",
            "4     121859    1    ALUM  CTALUMSG             CT ALUMINÉ - SECCO   \n",
            "...      ...  ...     ...       ...                            ...   \n",
            "8098  129953    2    CITR  CTCITRUG  BIOGAS CTBG CITRUSVIL-ALCOVIL   \n",
            "8099  129954    2    OBEM  EMISSANG                EMSA GENERACION   \n",
            "8100  129955    2    PERG  CTPERGAG          BIOGAS CTBG PERGAMINO   \n",
            "8101  129956    2    GIG1  CTGIGENG           BIOGAS CTBG GIGENA I   \n",
            "8102  129957    2    JDAR  CTJUSTOG       BIOGAS CTBG JUSTO DARACT   \n",
            "\n",
            "     tecnologia_descripcion tecnologia  factor_disp_tec_porcentaje  \\\n",
            "0              Motor Diesel         DI                    1.000000   \n",
            "1         Ciclos Combinados         CC                    0.700782   \n",
            "2         Ciclos Combinados         CC                    0.976917   \n",
            "3              Motor Diesel         DI                    1.000000   \n",
            "4              Motor Diesel         DI                    1.000000   \n",
            "...                     ...        ...                         ...   \n",
            "8098                 Biogas       BIOG                    0.013667   \n",
            "8099           Motor Diesel         DI                    1.000000   \n",
            "8100                 Biogas       BIOG                    0.294167   \n",
            "8101                 Biogas       BIOG                    0.118000   \n",
            "8102                 Biogas       BIOG                    0.120000   \n",
            "\n",
            "                   fecha_proceso  lote_id_log indice_tiempo  \n",
            "0     2020-05-05 11:07:57.624983           67       2017-01  \n",
            "1     2020-05-05 11:07:57.624983           67       2017-01  \n",
            "2     2020-05-05 11:07:57.624983           67       2017-01  \n",
            "3     2020-05-05 11:07:57.624983           67       2017-01  \n",
            "4     2020-05-05 11:07:57.624983           67       2017-01  \n",
            "...                          ...          ...           ...  \n",
            "8098  2020-05-05 11:07:57.624983           67       2020-02  \n",
            "8099  2020-05-05 11:07:57.624983           67       2020-02  \n",
            "8100  2020-05-05 11:07:57.624983           67       2020-02  \n",
            "8101  2020-05-05 11:07:57.624983           67       2020-02  \n",
            "8102  2020-05-05 11:07:57.624983           67       2020-02  \n",
            "\n",
            "[8103 rows x 11 columns]\n"
          ]
        }
      ]
    },
    {
      "cell_type": "code",
      "source": [
        "print(dfdis.columns)"
      ],
      "metadata": {
        "colab": {
          "base_uri": "https://localhost:8080/"
        },
        "id": "vV2gl2_TG2Zf",
        "outputId": "224ca138-aa9f-4bb4-83c9-d022ab032d94"
      },
      "execution_count": null,
      "outputs": [
        {
          "output_type": "stream",
          "name": "stdout",
          "text": [
            "Index(['id', 'mes', 'central', 'agente', 'descripcion',\n",
            "       'tecnologia_descripcion', 'tecnologia', 'factor_disp_tec_porcentaje',\n",
            "       'fecha_proceso', 'lote_id_log', 'indice_tiempo'],\n",
            "      dtype='object')\n"
          ]
        }
      ]
    },
    {
      "cell_type": "code",
      "source": [
        "dfdis['id'].unique()"
      ],
      "metadata": {
        "colab": {
          "base_uri": "https://localhost:8080/"
        },
        "id": "lon_wxvgG60T",
        "outputId": "96f551ed-9481-4a61-9da0-6507b1f4c75d"
      },
      "execution_count": null,
      "outputs": [
        {
          "output_type": "execute_result",
          "data": {
            "text/plain": [
              "array([121855, 121856, 121857, ..., 129955, 129956, 129957])"
            ]
          },
          "metadata": {},
          "execution_count": 37
        }
      ]
    },
    {
      "cell_type": "code",
      "source": [
        "# Cargar archivos CSV\n",
        "dfpot = pd.read_csv('potencia-instalada.csv',header=0, sep=\",\")\n",
        "print(dfpot)"
      ],
      "metadata": {
        "colab": {
          "base_uri": "https://localhost:8080/"
        },
        "id": "WoYUd7uyIOJa",
        "outputId": "67ee4213-b086-40d0-bde0-f0ef95cb8904"
      },
      "execution_count": null,
      "outputs": [
        {
          "output_type": "stream",
          "name": "stdout",
          "text": [
            "          id              periodo central    agente  \\\n",
            "0          2  2015-10-01 00:00:00    ABRO  CTBROWNG   \n",
            "1          3  2015-10-01 00:00:00    ACAJ  CAPEXSAG   \n",
            "2          4  2015-10-01 00:00:00  ADTOHI  HIDIAMAG   \n",
            "3          5  2015-10-01 00:00:00    AESP  CTAESPAG   \n",
            "4          6  2015-10-01 00:00:00    AESP  CTAESPAG   \n",
            "...      ...                  ...     ...       ...   \n",
            "15788  16810  2020-02-01 00:00:00  LOM2EO  PELOMA2G   \n",
            "15789  16811  2020-02-01 00:00:00  ENE1EO  PEENER2G   \n",
            "15790  16812  2020-02-01 00:00:00  SANDFV  PFSOLAAG   \n",
            "15791  16813  2020-02-01 00:00:00  OLIVEO  PEOLIVOG   \n",
            "15792  16814  2020-02-01 00:00:00  NEC1EO  PEVINECG   \n",
            "\n",
            "                  agente_descripcion        region  \\\n",
            "0               C.T. ALMIRANTE BROWN   GRAN BS.AS.   \n",
            "1                C.T. AGUA DEL CAJON       COMAHUE   \n",
            "2                     H. DIAMANTE SA          CUYO   \n",
            "3                    C.T. AES PARANA  BUENOS AIRES   \n",
            "4                    C.T. AES PARANA  BUENOS AIRES   \n",
            "...                              ...           ...   \n",
            "15788         P.EOLICO LOMA BLANCA 2    PATAGONICA   \n",
            "15789  P.EOLICO LA ENERGETICA Renov2  BUENOS AIRES   \n",
            "15790  PQUE FOTOV.SOLAR DE LOS ANDES          CUYO   \n",
            "15791      P.EOLICO LOS OLIVOS MATER        CENTRO   \n",
            "15792   P.EOLICO VIENTOS DE NECOCHEA  BUENOS AIRES   \n",
            "\n",
            "                   categoria_region tipo_maquina fuente_generacion  \\\n",
            "0      Gba - Litoral - Buenos Aires           DI           Térmica   \n",
            "1                           Comahue           TG           Térmica   \n",
            "2                              Cuyo           HI        Hidráulica   \n",
            "3      Gba - Litoral - Buenos Aires           TG           Térmica   \n",
            "4      Gba - Litoral - Buenos Aires           TV           Térmica   \n",
            "...                             ...          ...               ...   \n",
            "15788                     Patagonia           EO         Renovable   \n",
            "15789  Gba - Litoral - Buenos Aires           EO         Renovable   \n",
            "15790                          Cuyo           FV         Renovable   \n",
            "15791                        Centro           EO         Renovable   \n",
            "15792  Gba - Litoral - Buenos Aires           EO         Renovable   \n",
            "\n",
            "              tecnologia  potencia_instalada_mw               fecha_proceso  \\\n",
            "0           Motor Diesel                  25.00  2018-10-08 15:47:17.851306   \n",
            "1      Ciclos Combinados                 184.40  2018-10-08 15:47:17.851306   \n",
            "2             Hidráulica                 150.00  2018-10-08 15:47:17.851306   \n",
            "3      Ciclos Combinados                 525.96  2018-10-08 15:47:17.851306   \n",
            "4      Ciclos Combinados                 319.30  2018-10-08 15:47:17.851306   \n",
            "...                  ...                    ...                         ...   \n",
            "15788             Eólica                  51.20  2020-05-05 11:06:12.186524   \n",
            "15789             Eólica                  79.80  2020-05-05 11:06:12.186524   \n",
            "15790              Solar                   5.00  2020-05-05 11:06:12.186524   \n",
            "15791             Eólica                  22.80  2020-05-05 11:06:12.186524   \n",
            "15792             Eólica                  37.95  2020-05-05 11:06:12.186524   \n",
            "\n",
            "       lote_id_log  mes indice_tiempo  anio  \n",
            "0                4   10       2015-10  2015  \n",
            "1                4   10       2015-10  2015  \n",
            "2                4   10       2015-10  2015  \n",
            "3                4   10       2015-10  2015  \n",
            "4                4   10       2015-10  2015  \n",
            "...            ...  ...           ...   ...  \n",
            "15788           67    2       2020-02  2020  \n",
            "15789           67    2       2020-02  2020  \n",
            "15790           67    2       2020-02  2020  \n",
            "15791           67    2       2020-02  2020  \n",
            "15792           67    2       2020-02  2020  \n",
            "\n",
            "[15793 rows x 16 columns]\n"
          ]
        }
      ]
    },
    {
      "cell_type": "code",
      "source": [
        "print(dfpot.columns)"
      ],
      "metadata": {
        "colab": {
          "base_uri": "https://localhost:8080/"
        },
        "id": "jcEbll24IrKZ",
        "outputId": "4d9cb55a-e759-4313-ebf1-682aaa30f383"
      },
      "execution_count": null,
      "outputs": [
        {
          "output_type": "stream",
          "name": "stdout",
          "text": [
            "Index(['id', 'periodo', 'central', 'agente', 'agente_descripcion', 'region',\n",
            "       'categoria_region', 'tipo_maquina', 'fuente_generacion', 'tecnologia',\n",
            "       'potencia_instalada_mw', 'fecha_proceso', 'lote_id_log', 'mes',\n",
            "       'indice_tiempo', 'anio'],\n",
            "      dtype='object')\n"
          ]
        }
      ]
    },
    {
      "cell_type": "code",
      "source": [
        "dfpot['agente_descripcion'].unique()"
      ],
      "metadata": {
        "colab": {
          "base_uri": "https://localhost:8080/"
        },
        "id": "pyOA_JQxIzXp",
        "outputId": "03411a9e-0719-410b-8a35-a8bf1ad6e199"
      },
      "execution_count": null,
      "outputs": [
        {
          "output_type": "execute_result",
          "data": {
            "text/plain": [
              "array(['C.T. ALMIRANTE BROWN', 'C.T. AGUA DEL CAJON', 'H. DIAMANTE SA',\n",
              "       'C.T. AES PARANA', 'CT ALEM - AGGREKO', 'AES ALICURA.',\n",
              "       'CT ALUMINÉ - SECCO', 'HIDROELECTRICA AMEGHINO SA',\n",
              "       'CT AÑATUYA II - SULLAIR', 'CT AÑATUYA - SULLAIR',\n",
              "       'PARQUE EOLICO ARAUCO II SAPEM', 'PARQUE EOLICO ARAUCO SAPEM',\n",
              "       'SIDERCA SA(EX ARGENER-GEN.PAR)', 'CT ARISTOBU.DEL VALLE-SOENERGY',\n",
              "       'CT LAS ARMAS II - EMGASUD', 'CT LAS ARMAS - EMGASUD',\n",
              "       'CT ARRECIFES-AGGREKO', 'HIDROELECTRICA EL CHOCON SA',\n",
              "       'NUCLEOELECTRICA ARG. SA', 'C.TERMICA ALTO VALLE',\n",
              "       'CT BARILOCHE -SOENERGY', 'CENTRAL PIEDRABUENA S.A.',\n",
              "       'CT BRIGADIER LOPEZ - ENARSA', 'CT BRAGADO - EMGASUD',\n",
              "       'TERMOELECTRICA GUILLERMO BROWN', 'ENDESA COSTANERA SA',\n",
              "       'CT BELL VILLE - SULLAIR', 'EDESASA GENERACION',\n",
              "       'CONSORCIO POTRERILLOS', 'HIDROELECTRICA TUCUMAN SA',\n",
              "       'EPEC GENERACION', 'CAPEX S.A. AUTOGENERADOR',\n",
              "       'CT CASTELLI - AGGREKO', 'EDECAT GENERACION',\n",
              "       'CT CATAMARCA - SECCO', 'CT CAVIAHUE - SECCO',\n",
              "       'C.H.LOS CARACOLES - EPSE', 'AES JURAMENTO',\n",
              "       'C. TERMICAS MENDOZA SA', 'UGEM 04 - CENTRO - ENARSA',\n",
              "       'UGEM 08 - CENTRO - ENARSA', 'UGEM 17 - CENTRO - ENARSA',\n",
              "       'UGEM 18 - CENTRO - ENARSA', 'CT CERES - SECCO',\n",
              "       'ECOENERGÍA - PETROBRAS', 'CENTRAL HIDRAULICA CESPEDES',\n",
              "       'CT CHARATA - SULLAIR', 'C.FOTOV. CHIMBERAS 1-ENARSA',\n",
              "       'EDELAR GENERACION', 'CT CHILECITO - SECCO',\n",
              "       'CT CIPOLLETI - AGGREKO', 'CENTRAL HIDRAULICA CIPOLLETTI',\n",
              "       'CT COLON BS.AS - SULLAIR', 'GENERADORA ELECTRICA MENDOZ.SA',\n",
              "       'CT CORRIENTES - AGGREKO', 'CENTRAL CASA DE PIEDRA',\n",
              "       'C.T. PATAGONICAS SA', 'CT CAPITAN SARMIENTO - SECCO',\n",
              "       'UGEM 03 - CUYO - ENARSA', 'CT CONC.DEL URUGUAY II-EMGASUD',\n",
              "       'CT CONC.DEL URUGUAY - EMGASUD', 'HIDR.CUESTA DEL VIENTO - EPSE',\n",
              "       'HYCHICO P. EOLICO DIADEMA', 'CENTRAL DIQUE S.A.',\n",
              "       'CENTRAL DOCK SUD', 'CT BARRAGAN - ENARSA',\n",
              "       'ELECTROPATAGONIA-C.RIV-C.COMB.', 'LA PLATA COGENERACION SA',\n",
              "       'CT ESQUINA - SOENERGY', 'C.T. FILO MORADO',\n",
              "       'CT FORMOSA - APR ENERGY', 'HIDROELECTRICA FUTALEUFU SA',\n",
              "       'TERMOELECTRICA M.BELGRANO S.A.', 'UGEM 26 - GBA - ENARSA',\n",
              "       'UGEM 23 - GBA - ENARSA', 'UGEM 01 - GBA - ENARSA',\n",
              "       'UGEM 02 - GBA - ENARSA', 'UGEM 07 - GBA - ENARSA',\n",
              "       'UGEM 12 - GBA - ENARSA', 'UGEM 13 - GBA - ENARSA',\n",
              "       'UGEM 14 - GBA - ENARSA', 'UGEM 15 - GBA - ENARSA',\n",
              "       'UGEM 25 - GBA - ENARSA', 'UGEM 22 - GBA - ENARSA',\n",
              "       'UGEM 21 - GBA - ENARSA', 'UGEM 24 - GBA - ENARSA',\n",
              "       'GENELBA - PETROBRAS', 'GENELBA PLUS- PETROBRAS',\n",
              "       'CT GOYA - SECCO', 'C.TERMICA GUEMES S.A.',\n",
              "       'C.FOTOV. CAÑADA HONDA I-ENARSA', 'C.FOTOV. CAÑADA HONDA 2-ENARSA',\n",
              "       'GENERACION INDEPENDENCIA S.A.', 'UGEM 16 - BA INT - ENARSA',\n",
              "       'CT INTA CATAMARCA - SECCO', 'CT ISLA VERDE - AGGREKO',\n",
              "       'CT ITATI - TURBODISEL', 'CT ING JUAREZ - SECCO',\n",
              "       'CT JUNIN - SOENERGY', 'GENERACION LA BANDA S.A.',\n",
              "       'CT LAGUNA BLANCA - SECCO', 'C T MENDOZA COGENERADOR',\n",
              "       'PAH CT MENDOZA - ENARSA', 'C.T. LOMA DE LA LATA S.A.',\n",
              "       'CT LIBERTADOR GSM - SULLAIR', 'CT LINCOLN - SOENERGY',\n",
              "       'HIDROELECTRICA LAS MADERAS', 'CT LOBOS BS.AS - SULLAIR',\n",
              "       'C.EOLICA LOMA BLANCA IV-ENARSA', 'CT LAS PALMAS -TURBODISEL',\n",
              "       'CT LA PAZ Entre Rios - ENARSA', 'CT LA PLATA - SULLAIR',\n",
              "       'HIDROELECTRICA RIO HONDO SA', 'CT LA RIOJA - SECCO',\n",
              "       'GENERACION RIOJANA SA', 'CT LA RIOJA SUR- SECCO',\n",
              "       'PAH LA LUJANITA - ENARSA', 'CT MAGDALENA - APR ENERGY',\n",
              "       'CT MATHEU - EMGASUD', 'C.COSTA ATLANTICA',\n",
              "       'CT MIRAMAR I - ENERGYST', 'GEN.MEDITERRANEA (CONT.PLUS)',\n",
              "       'GEN.MEDITERRANEA GRUPO 5', 'GEN.MEDITERRANEA (EX ENRON)',\n",
              "       'SEA ENERGY PARQUE EOLICO', 'UGEM 05 - NEA - ENARSA',\n",
              "       'UGEM 06 - NEA - ENARSA', 'UGEM 09 - NEA - ENARSA',\n",
              "       'HIDROELECTRICA LOS NIHUILES SA', 'HIDR NIHUIL IV (EMSE SE)',\n",
              "       'UGEM 10 - NOA - ENARSA', 'CENTRAL PUERTO SA', 'EMSA GENERACION',\n",
              "       'CT OLAVARRIA - EMGASUD', 'CT ORAN - SECCO',\n",
              "       'HIDR. PIEDRA DEL AGUILA S.A.', 'UGEM 11 - BA INT - ENARSA',\n",
              "       'CT PARANA - EMGASUD', 'ENERGIA DEL SUR S.A.',\n",
              "       'HIDR. CERROS COLORADOS S.A.', 'CT PEHUAJO - SOENERGY',\n",
              "       'CT PARQUE INDUSTR.CATAM-SECCO', 'CT PILAR - EPEC',\n",
              "       'CT PINAMAR - EMGASUD', 'CENTRAL TERMICA PIQUIRENDA',\n",
              "       'CT PIRANE - SULLAIR', 'CT PASO LA PATRIA-TURBODISEL',\n",
              "       'PICHI PICUN LEUFU', 'GENERADORA ELEC.TUCUMAN SA',\n",
              "       'QUEBRADA ULLUM - EPSE', 'CT RAFAELA - SECCO',\n",
              "       'P.EOLICO RAWSON I - ENARSA', 'P.EOLICO RAWSON II - ENARSA',\n",
              "       'CT REALICO - SECCO', 'C.T.REMED.DE ESCALADA -AGGREKO',\n",
              "       'CT ROCA SA', 'CENTRAL JULIAN ROMERO 5 SALTOS',\n",
              "       'HIDROELECTRICA REYES EJSEDSA', 'C.MEDANITOS-RINCON SAUCES',\n",
              "       'GENERADORA CORDOBA S.A.', 'CT RUFINO Sta Fe - ENARSA',\n",
              "       'C.H. SALTO DE LA LOMA SIEyE', 'CENTRAL SALTO ANDERSEN',\n",
              "       'HIDROTERMICA SAN JUAN', 'C.T. NOA', 'EDEA GENERACION',\n",
              "       'CTM SALTO GRANDE', 'C.H. SAN GUILLERMO SIEyE',\n",
              "       'PTA FOTOVOLTAICA S.JUAN I-EPSE', 'CT SALTO - SOENERGY',\n",
              "       'C.T.SAN MARTIN NORTE 3- ENARSA', 'CT SAN MIGUEL NORTE III-ENARSA',\n",
              "       'YPF ENERGÍA ELECTR.ex PLUSPETG', 'C.TERMICA SAN NICOLAS',\n",
              "       'C.TERMICA SORRENTO', 'CT SAENZ PEÑA II- AGGREKO',\n",
              "       'CT SAENZ PEÑA - APR ENERGY', 'CT SANTA ROSA -TURBODISEL',\n",
              "       'CT SAN VICENTE BsAs - ENARSA', 'C.T. SALTA (TERMOANDES)',\n",
              "       'CT TARTAGAL - SOENERGY', 'CT TEREVINTOS - SECCO',\n",
              "       'TERMOELE. JOSE SAN MARTIN S.A', 'CT TINOGASTA - SULLAIR',\n",
              "       'CE EL TORDILLO-VIENTO PATAGON', 'CT VILLA ANGELA - AGGREKO',\n",
              "       'CT GRAL. VILLEGAS - AGGREKO', 'COOP. VILLA GESELL GENERACIÓN',\n",
              "       'CT VILLA GESELL-CATLANT.', 'CT VIALE - AGGREKO',\n",
              "       'CT VUELTA DE OBLIGADO', 'CT VILLA REGINA - AGGREKO',\n",
              "       'CT VENADO TUERTO - SECCO', 'EPE SANTA FE GENERACION',\n",
              "       'E.B. YACYRETA', 'APELP', 'EMP DE ENERGIA DE RIO NEGRO SA',\n",
              "       'CT NUEVA POMPEYA - ENARSA', 'CT PALMAR LARGO - ENARSA',\n",
              "       'CT SAN SALVADOR E.Rios -ENARSA', 'GENERACION FRIAS S.A.',\n",
              "       'CT PRESIDENCIA ROCA - ENARSA', 'CT BANDERA SgoEstero - ENARSA',\n",
              "       'CT SAN MARTIN Chaco - ENARSA', 'MOTOGENERADORES COSTANERA',\n",
              "       'C.TERMICA GUEMES S.A.PLUS', 'CT RIO CHICO - SPSE',\n",
              "       'EMP.JUJENIA DE ENER.GENERACION', 'C.EOLICA EL JUME Sgo del Ester',\n",
              "       'CT BARRANQUERAS Chaco- ENARSA', 'C. TERMICAS MENDOZA PLUS',\n",
              "       'C.H.PUNTA NEGRA - EPSE', 'CT BRAGADO 2 - GENNEIA',\n",
              "       'CT 9 de JULIO C Cost ATLANTICA', 'GENERACION MEDITERRANEA 220',\n",
              "       'CT CAIMANCITO -SULLAIR', 'CT RIO TERCERO II - SoENERGY',\n",
              "       'CT GENERAL ROJO - RIO ENERGY', 'CT BRAGADO 3 - GENNEIA',\n",
              "       'CT SALTO 2 - SoENERGY', 'UGEM 28 - CENTRO - ENARSA',\n",
              "       'UGEM 30 - GBA - ENARSA', 'UGEM 29 - GBA - ENARSA',\n",
              "       'UGEM 27 - GBA - ENARSA', 'CT LOMA DE LA LATA 2',\n",
              "       'CT VILLA OCAMPO - SECCO', 'CENTRAL BIOELECTRICA R.CUARTO',\n",
              "       'CT ZAPPALORTO - APR ENERGY', 'PAH RIO ESCONDIDO-PATAG',\n",
              "       'CT INDEPEND. ETAPA1 G MEDITERR', 'CT LOMA DE LA LATA II(NEUQEUN)',\n",
              "       'GENERACION MEDITERRANEA', 'CT CAÑADA DE GOMEZ - SECCO',\n",
              "       'CENTRAL BIOELECTRICA R.CUARTO1', 'CT PEREZ - SECCO',\n",
              "       'BIO ENERGÍA YANQUETRUZ S.A.', 'CT PILAR BS AS- PAMPA ENERGÍA',\n",
              "       'CT ANCHORIS - METHAX', 'CT MATHEU II - APR ENERGY',\n",
              "       'CT EZEIZA ETAPA2 G MEDITERRANE', 'CT EZEIZA ETAPA1 G MEDITERRANE',\n",
              "       'CT LOMA CAMPANA 1 -YPF', nan, 'CT LOMA CAMPANA 2 -Y-GEN ELECT',\n",
              "       'ENERGIA AGRO S.A.U', 'ALUAR SA - GENERADOR',\n",
              "       'P.EOLICO RAWSON III - GENNEIA', 'CT BARKER - UGEN SA',\n",
              "       'CT PIEDRABUENA MG(L.LATA)', 'UGEM 28 - CENTRO', 'UGEM 30 - GBA',\n",
              "       'UGEM 29 - GBA', 'UGEM 27 - GBA', 'CT BRACHO - Y-GEN ELECTRICA II',\n",
              "       'CT INDEPEND. ETAPA2 G MEDITERR', 'CT VILLA MARIA - UENSA SA',\n",
              "       'EMP.DIS.S.ESTERO GENERACION', 'CT RENOVA - ALBANESI ENERGIA',\n",
              "       'CT SAN PEDRO - SPI ENERGY SA', 'EMP DIST ENERG SUR GENERACION',\n",
              "       'EDEN GENERACION', 'EDELAP SA GENERACION',\n",
              "       'COOP. MNO. MORENO BS. AS.GENER', 'CT LAS PALMAS 2 - ARAUCARIA',\n",
              "       'C.H. SALTO DE LA LOMA', 'CT MATHEU III - ARAUCARIA ENER',\n",
              "       'P.EOLICO CORTI', 'P.EOLICO MANANTIALES BEHR',\n",
              "       'C.FOTOV.CALDENES DEL OESTE', 'P.EOLICO LA CASTELLANA',\n",
              "       'CT LUJAN II - ARAUCARIA ENERGY', 'P.EOLICO ACHIRAS',\n",
              "       'C.BIOELECT.R.CUARTO2 REN1', 'PQUE FOTOVOLTAICO LAS LOMITAS',\n",
              "       'C.BIOELECT.R.CUARTO2 REN2', 'PQUE FOTOVOLTAICO LA CUMBRE',\n",
              "       'PARQUE SOLAR CHEPES', 'P.EOLICO MADRYN 1 GENNEIA',\n",
              "       'P.EOLICO GARAYALDE', 'PQUE SOLAR ULLUM 2', 'P.EOLICO VILLALONGA',\n",
              "       'PQUE FOTOVOLTAICO NONOGASTA', 'PQUE SOLAR ULLUM 1',\n",
              "       'P.EOLICO CHUBUT NOR 1 GENNEIA', 'PQUE SOLAR ULLUM 3',\n",
              "       'PQUE SOLAR SAUJIL', 'CT BARILOCHE', 'CT JUNIN', 'CT LINCOLN',\n",
              "       'CT GENERAL ROJO', 'CT GENERAL ROJO CIERRE CC', 'CT BARKER',\n",
              "       'CT VILLA MARIA', 'PQUE FOTOV.LA CUMBRE 2 MATER',\n",
              "       'P.EOLICO VILLALONGA 2 MATER', 'PQUE SOLAR PQUE DE LOS LLANOS',\n",
              "       'P.EOLICO ALUAR I MATER', 'P.EOLICO BICENTENARIO 1',\n",
              "       'PQUE FOTOV. CORDILLERA SOLAR', 'BIOGAS RS CT ENSENADA SECCO',\n",
              "       'BIOGAS CT AVELLANEDA SECCO', 'PQUE SOLAR TINOGASTA II',\n",
              "       'P.EOLICO BICENTENARIO 2', 'P.EOLICO LA BANDERITA',\n",
              "       'PQUE SOLAR TINOGASTA I', 'CT VILLA MARIA CIERRE CC-UENSA',\n",
              "       'P.EOLICO PAMPA ENERGIA', 'P.EOLICO DE LA BAHIA',\n",
              "       'CT BRIGADIER LOPEZ', 'GENELBA - RES.287', 'CT PRESIDENCIA ROCA',\n",
              "       'CT SAN MARTIN Chaco', 'C.FOTOV. ULLUM IV SOLARGEN',\n",
              "       'CT BARKER CIERRE CC', 'P.EOLICO LA CASTELLANA 2',\n",
              "       'PARQUE FOTOV. CAFAYATE', 'C.FOTOV. ULLUM SOLARGEN2 MATER',\n",
              "       'P.EOLICO POMONA 1 - RENOVAR', 'C.BIOELECT.R.CUARTO1 REN2',\n",
              "       'GENNEIA S.A.EOLICOS', 'CTBM INGENIO LEALES',\n",
              "       'P.EOLICO MADRYN 2 GENNEIA', 'P.EOLICO DIADEMA 2',\n",
              "       'PQUE SOLAR FTV PASIP PALMIRA', 'BIOGAS CTBG CITRUSVIL-ALCOVIL',\n",
              "       'PQUE FOTOV.CERROS DEL SOL', 'PQUE SOLAR FIAMBALA',\n",
              "       'P.EOLICO LA GENOVEVA II MATER', 'PAMPA ENERGIA SA',\n",
              "       'C.FOTOV. CHIMBERAS 1', 'LUJAN DE CUYO COGENERAC.PUERTO',\n",
              "       'P.EOLICO RAWSON I', 'P.EOLICO RAWSON II', 'CT BARRANQUERAS Chaco',\n",
              "       'P.EOLICO LA ENERGETICA MATER', 'ALUAR SA AUTOGENERADOR REN.',\n",
              "       'CT SAN PEDRO - CIERRE CC', 'BIOGAS CTBG PERGAMINO',\n",
              "       'P.EOLICO MANQUE MATER', 'P.EOLICO GARCIA DEL RIO',\n",
              "       'BIOGAS CTBG GIGENA I', 'AGRITUR SAN LUIS S.A.',\n",
              "       'P.EOLICO MATACO 3 PICOS', 'PQUE SOLAR FTV DE LA PUNTA',\n",
              "       'CTBM. GENERACIÓN LAS JUNTURAS', 'PQUE SOLAR FTV LOS DIAGUITAS',\n",
              "       'BIOGAS CTBG JUSTO DARACT', 'P.EOLICO LOMA BLANCA 2',\n",
              "       'PQUE SOLAR DIAGUITAS-TAMBERIAS', 'P.EOLICO LA ENERGETICA Renov2',\n",
              "       'PQUE FOTOV.SOLAR DE LOS ANDES', 'P.EOLICO LOS OLIVOS MATER',\n",
              "       'P.EOLICO VIENTOS DE NECOCHEA'], dtype=object)"
            ]
          },
          "metadata": {},
          "execution_count": 43
        }
      ]
    }
  ]
}